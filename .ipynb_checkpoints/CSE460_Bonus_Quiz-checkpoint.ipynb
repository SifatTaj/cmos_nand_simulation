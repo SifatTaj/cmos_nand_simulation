{
 "cells": [
  {
   "cell_type": "markdown",
   "metadata": {},
   "source": [
    "## Problem\n",
    "\n",
    "1. One class test bonus will be given if anyone solve input output variations (you need to be imaginative plus clever here) of CMOS nand gate for different parameters.\n",
    "\n",
    "2. You can take this code as the starting point. But you need to develop a strategy or algorithm to solve the problem.\n",
    "\n",
    "3. The time limit is upto last week of this semester.\n",
    "\n",
    "4. You can write it in any language preferably python3 in jupyter lab.\n",
    "\n",
    "5. You have to demonstrate the result to me in person and give necessary explanation about your program.\n",
    "\n",
    "6. If you failed to do so you wouldn't get any bonus means here you will get no partial credit for your failed attempt. So think carefully.\n",
    "\n",
    "7. If anyone doesn't want to participate in this, you are welcomed to ignore this challenge. There is no penalty for not attempting."
   ]
  },
  {
   "cell_type": "markdown",
   "metadata": {},
   "source": [
    "![title](https://upload.wikimedia.org/wikipedia/commons/thumb/e/e2/CMOS_NAND.svg/1200px-CMOS_NAND.svg.png)"
   ]
  },
  {
   "cell_type": "code",
   "execution_count": 4,
   "metadata": {},
   "outputs": [],
   "source": [
    "from ipywidgets import interact, interactive, IntSlider, Layout\n",
    "import ipywidgets as widgets\n",
    "from IPython.display import display\n",
    "import matplotlib.pyplot as plt\n",
    "import numpy as np\n",
    "from math import pi"
   ]
  },
  {
   "cell_type": "markdown",
   "metadata": {},
   "source": [
    "### Variable declaration"
   ]
  },
  {
   "cell_type": "code",
   "execution_count": 15,
   "metadata": {},
   "outputs": [],
   "source": [
    "vd = np.linspace(0,5,100)   # Drain voltage\n",
    "vt_n  = 1                    # threshold voltage for NMOS\n",
    "vt_p  = 1                    # threshold voltage for PMOS\n",
    "beta_n = 30e-6               # beta for NMOS\n",
    "beta_p = 30e-6               # beta for PMOS\n",
    "ids_n = np.zeros(100)         # for nmos\n",
    "ids_p = np.zeros(100)          # for pmos\n",
    "lambda_n = 0.3              # Channel modulation effect\n",
    "lambda_p = 0.1              # Channel modulation effect"
   ]
  },
  {
   "cell_type": "markdown",
   "metadata": {},
   "source": [
    "### Current calculation for both pMOS & nMOS"
   ]
  },
  {
   "cell_type": "code",
   "execution_count": 18,
   "metadata": {},
   "outputs": [],
   "source": [
    "def current(vgs, vds, beta_n, beta_p):\n",
    "    vv = 0\n",
    "    idd= 0\n",
    "    for i, v in enumerate(vds):\n",
    "        #NMOS\n",
    "        if vgs <= vt_n:   #  cutoff \n",
    "            ids_n[i] = 0\n",
    "        elif v <= (vgs - vt_n):    # linear region\n",
    "            ids_n[i] = (beta_n * (vgs - vt_n - v / 2) * v)\n",
    "        else:   # saturation region\n",
    "            ids_n[i] = (beta_n / 2 * (vgs - vt_n) ** 2) * (1 + v * lambda_n)\n",
    "        #PMOS\n",
    "        vsd = 5 - v\n",
    "        vsg = 5 - vgs\n",
    "        if vsg <= vt_p:  # cutoff\n",
    "            ids_p[i] = 0\n",
    "        elif vsd <= (vsg - vt_p): # linear region\n",
    "            ids_p[i] = (beta_p * (vsg - vt_p - vsd / 2) * vsd)\n",
    "        else:   # saturation region\n",
    "            ids_p[i] = (beta_p / 2 * (vsg - vt_p) ** 2) * (1 + vsd * lambda_p)\n",
    "    return ids_n, ids_p"
   ]
  },
  {
   "cell_type": "markdown",
   "metadata": {},
   "source": [
    "### Find intersection between pMOS and nMOS I-V curves"
   ]
  },
  {
   "cell_type": "code",
   "execution_count": 19,
   "metadata": {},
   "outputs": [],
   "source": [
    "def finding_intersection(vgs, vds, beta_n, beta_p):\n",
    "    ids_n, ids_p = current(vgs, vds, beta_n, beta_p)\n",
    "    idiff = ids_n - ids_p\n",
    "    vv = 0\n",
    "    idd = 0\n",
    "    for i in range(1, len(ids_p) - 1):\n",
    "        if idiff[i] * idiff[i + 1] <= 0:\n",
    "            vv = vds[i]\n",
    "            idd = ids_n[i]\n",
    "#             print(vv,idd)\n",
    "            break\n",
    "    return vv, idd, ids_n, ids_p\n",
    "\n",
    "v_in = np.linspace(0,5,100)\n",
    "v_out = np.zeros(100)\n",
    "i_out = np.zeros(100)\n",
    "for i, v in enumerate(v_in):\n",
    "    vv, idd, ids_n, ids_p = finding_intersection(v, vd, beta_n, beta_p)\n",
    "    v_out[i] = vv\n",
    "    i_out[i] = idd"
   ]
  },
  {
   "cell_type": "markdown",
   "metadata": {},
   "source": [
    "# Interactive Plot"
   ]
  },
  {
   "cell_type": "code",
   "execution_count": 22,
   "metadata": {},
   "outputs": [
    {
     "data": {
      "application/vnd.jupyter.widget-view+json": {
       "model_id": "5ca9f1b23e334f6abac069bebe26fd4e",
       "version_major": 2,
       "version_minor": 0
      },
      "text/plain": [
       "interactive(children=(FloatSlider(value=2.0, description='vgs', max=5.0), Output()), _dom_classes=('widget-int…"
      ]
     },
     "metadata": {},
     "output_type": "display_data"
    },
    {
     "data": {
      "text/plain": [
       "<function __main__.drawing_plot(vgs)>"
      ]
     },
     "execution_count": 22,
     "metadata": {},
     "output_type": "execute_result"
    }
   ],
   "source": [
    "def drawing_plot(vgs):\n",
    "    vv, idd, ids_n, ids_p = finding_intersection(vgs,vd,beta_n,beta_p)\n",
    "#     fig, (ax1, ax2, ax3, ax4) = plt.subplots(2, 2)\n",
    "    fig=plt.figure(figsize=(9, 6), dpi= 80)\n",
    "    plt.subplot(221)\n",
    "    plt.title('I-V characteristics')\n",
    "    plt.plot(vd,ids_n*1000)\n",
    "    plt.xlabel('Drain Voltage (V)')\n",
    "    \n",
    "    plt.ylabel('Drain Current (mA)')\n",
    "    plt.plot(vd,ids_p*1000)\n",
    "    plt.legend(['NMOS', 'PMOS'])\n",
    "    plt.plot(vv,idd*1000,'ro')\n",
    "    plt.axis([0,5,0,0.2])\n",
    "#     plt.show()\n",
    "    plt.subplot(222)\n",
    "    plt.title('Transfer characteristics of CMOS')\n",
    "    plt.plot(v_in,v_out)\n",
    "    plt.xlabel('Input Voltage (V)')\n",
    "    plt.ylabel('Output Voltage (V)')\n",
    "    plt.plot(vgs,vv,'ro')\n",
    "    \n",
    "#     plt.show()\n",
    "    plt.subplot(223)\n",
    "    plt.title('Current through CMOS circuit')\n",
    "    plt.plot(v_in,i_out*1000)\n",
    "    plt.xlabel('Input Voltage (V)')\n",
    "    plt.ylabel('Drain Current (mA)')\n",
    "    plt.plot(vgs,idd*1000,'ro')\n",
    "    \n",
    "    \n",
    "    plt.subplot(224)\n",
    "    plt.title('Power consumption')\n",
    "    plt.plot(v_in,5*i_out*1000)\n",
    "    plt.xlabel('Input Voltage (V)')\n",
    "    plt.ylabel('Power (mW)')\n",
    "    plt.plot(vgs,5*idd*1000,'ro')\n",
    "    plt.tight_layout()\n",
    "    plt.show()\n",
    "   \n",
    "interact(drawing_plot, vgs =(0,5,0.1))"
   ]
  },
  {
   "cell_type": "code",
   "execution_count": 30,
   "metadata": {},
   "outputs": [
    {
     "data": {
      "application/vnd.jupyter.widget-view+json": {
       "model_id": "a4a2aa7592854c9c9a64eaaf6e66209b",
       "version_major": 2,
       "version_minor": 0
      },
      "text/plain": [
       "interactive(children=(FloatSlider(value=6e-05, description='beta_p', max=0.00012, min=3e-06, step=3e-06), Outp…"
      ]
     },
     "metadata": {},
     "output_type": "display_data"
    },
    {
     "data": {
      "text/plain": [
       "<function __main__.drawing_beta_variations(beta_p)>"
      ]
     },
     "execution_count": 30,
     "metadata": {},
     "output_type": "execute_result"
    }
   ],
   "source": [
    "vpulse = np.zeros(12);\n",
    "vpulse = np.append(vpulse, np.linspace(0,5,12))\n",
    "vpulse = np.append(vpulse, 5*np.ones(52))\n",
    "vpulse = np.append(vpulse, np.linspace(5,0,12))\n",
    "vpulse = np.append(vpulse, np.zeros(12))\n",
    "vres = np.zeros(100);\n",
    "ires = np.zeros(100);\n",
    "def drawing_beta_variations(beta_p):\n",
    "    flag1 = 1\n",
    "    flag2 = 1\n",
    "    v1 = 100\n",
    "    v2 = 100\n",
    "    for i,v in enumerate(v_in):\n",
    "        vv, idd, Ids, Idp = finding_intersection(v,vd,beta_n,beta_p)\n",
    "        vv1, idd1, Ids, Idp = finding_intersection(vpulse[i],vd,beta_n,beta_p)\n",
    "        v_out[i] = vv\n",
    "        i_out[i] = idd\n",
    "        vres[i] = vv1\n",
    "        ires[i] = idd1\n",
    "        if vv <= abs(v-vt_n) and flag1 == 1:\n",
    "            v1 = v\n",
    "            flag1 = 0\n",
    "        if (5-vv) >= abs(5-v-vt_p) and flag2 == 1:\n",
    "            v2 = v\n",
    "            flag2 = 0\n",
    "    fig=plt.figure(figsize=(6, 6), dpi= 80)\n",
    "    plt.subplot(211)\n",
    "    plt.title('Transfer characteristics of CMOS')\n",
    "    plt.plot(v_in,v_out,'k')\n",
    "    plt.axvline(x=vt_n)\n",
    "    plt.axvline(x=5-vt_p)\n",
    "    plt.axvline(x=v1,color='r')\n",
    "    plt.axvline(x=v2,color='g')\n",
    "    plt.xlabel('Input Voltage (V)')\n",
    "    plt.ylabel('Output Voltage (V)')\n",
    "    \n",
    "    plt.subplot(212)\n",
    "    plt.title('Pulse Shape of CMOS')\n",
    "    plt.plot(vpulse)\n",
    "    plt.plot(vres)\n",
    "    plt.plot(ires*30000)\n",
    "    plt.xlabel('time (s)')\n",
    "    plt.ylabel('Voltage (V)')\n",
    "    plt.legend(['Input', 'Output', 'current'])\n",
    "#     plt.plot(vgs,vv,'ro')\n",
    "    plt.tight_layout()\n",
    "    plt.plot()\n",
    "    \n",
    "interact(drawing_beta_variations,beta_p =(beta_n/10,4*beta_n,beta_n/10))"
   ]
  },
  {
   "cell_type": "code",
   "execution_count": null,
   "metadata": {},
   "outputs": [],
   "source": []
  }
 ],
 "metadata": {
  "kernelspec": {
   "display_name": "Python 3",
   "language": "python",
   "name": "python3"
  },
  "language_info": {
   "codemirror_mode": {
    "name": "ipython",
    "version": 3
   },
   "file_extension": ".py",
   "mimetype": "text/x-python",
   "name": "python",
   "nbconvert_exporter": "python",
   "pygments_lexer": "ipython3",
   "version": "3.7.4"
  }
 },
 "nbformat": 4,
 "nbformat_minor": 2
}
