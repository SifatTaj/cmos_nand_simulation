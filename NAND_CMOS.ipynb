{
 "cells": [
  {
   "cell_type": "markdown",
   "metadata": {},
   "source": [
    "## Problem\n",
    "\n",
    "1. One class test bonus will be given if anyone solve input output variations (you need to be imaginative plus clever here) of CMOS nand gate for different parameters.\n",
    "\n",
    "2. You can take this code as the starting point. But you need to develop a strategy or algorithm to solve the problem.\n",
    "\n",
    "3. The time limit is upto last week of this semester.\n",
    "\n",
    "4. You can write it in any language preferably python3 in jupyter lab.\n",
    "\n",
    "5. You have to demonstrate the result to me in person and give necessary explanation about your program.\n",
    "\n",
    "6. If you failed to do so you wouldn't get any bonus means here you will get no partial credit for your failed attempt. So think carefully.\n",
    "\n",
    "7. If anyone doesn't want to participate in this, you are welcomed to ignore this challenge. There is no penalty for not attempting."
   ]
  },
  {
   "cell_type": "code",
   "execution_count": 554,
   "metadata": {},
   "outputs": [],
   "source": [
    "from ipywidgets import interact\n",
    "import ipywidgets as widgets\n",
    "from IPython.display import display\n",
    "import matplotlib.pyplot as plt\n",
    "import numpy as np\n",
    "from math import pi\n",
    "from mpl_toolkits import mplot3d"
   ]
  },
  {
   "cell_type": "markdown",
   "metadata": {},
   "source": [
    "# CMOS NAND\n",
    "![title](https://encrypted-tbn0.gstatic.com/images?q=tbn%3AANd9GcSHF8_w-GAwLl-ETJ-rVC0-uUqTDPDXXG61bNoQdNqbXR3ZdREO)\n",
    "\n",
    "# Cadence Simulation\n",
    "![title](CKT_NAND_Cadence.png)\n",
    "![title](VTC_NAND_Cadence.png)"
   ]
  },
  {
   "cell_type": "code",
   "execution_count": 555,
   "metadata": {},
   "outputs": [],
   "source": [
    "vd = np.linspace(0,5,100)    # Drain voltage\n",
    "\n",
    "vt_n  = 1                    # threshold voltage for NMOS\n",
    "vt_p  = 1                    # threshold voltage for PMOS\n",
    "\n",
    "beta_n = 30e-6               # beta for NMOS\n",
    "beta_p = 30e-6               # beta for PMOS\n",
    "\n",
    "ids_n1 = np.zeros(100)       # for A nmos\n",
    "ids_p1 = np.zeros(100)       # for A pmos\n",
    "\n",
    "ids_n2 = np.zeros(100)       # for B nmos\n",
    "ids_p2 = np.zeros(100)       # for B pmos\n",
    "\n",
    "ids_n = np.zeros(100)        # total current through pull-down circuit\n",
    "ids_p = np.zeros(100)        # total current through pull-up circuit\n",
    "\n",
    "lambda_n = 0.3               # Channel modulation effect\n",
    "lambda_p = 0.1               # Channel modulation effect"
   ]
  },
  {
   "cell_type": "code",
   "execution_count": 556,
   "metadata": {},
   "outputs": [],
   "source": [
    "def current(vgs, vds, beta_n, beta_p):\n",
    "    \n",
    "    ids_n_temp = np.zeros(100)\n",
    "    ids_p_temp = np.zeros(100)\n",
    "    \n",
    "    for i, v in enumerate(vds):\n",
    "        \n",
    "        # For NMOS\n",
    "        if vgs <= vt_n:   #  cutoff \n",
    "            ids_n_temp[i] = 0\n",
    "        elif v <= (vgs - vt_n):    # linear region\n",
    "            ids_n_temp[i] = (beta_n * (vgs - vt_n - v / 2) * v)\n",
    "        else:   # saturation region\n",
    "            ids_n_temp[i] = (beta_n / 2 * (vgs - vt_n) ** 2) * (1 + v * lambda_n)\n",
    "            \n",
    "            \n",
    "            \n",
    "        # For PMOS\n",
    "        vsd = 5 - v\n",
    "        vsg = 5 - vgs\n",
    "        if vsg <= vt_p:  # cutoff\n",
    "            ids_p_temp[i] = 0\n",
    "        elif vsd <= (vsg - vt_p): # linear region\n",
    "            ids_p_temp[i] = (beta_p * (vsg - vt_p - vsd / 2) * vsd)\n",
    "        else:   # saturation region\n",
    "            ids_p_temp[i] = (beta_p / 2 * (vsg - vt_p) ** 2) * (1 + vsd * lambda_p)\n",
    "            \n",
    "    return ids_n_temp, ids_p_temp"
   ]
  },
  {
   "cell_type": "code",
   "execution_count": 557,
   "metadata": {},
   "outputs": [],
   "source": [
    "def finding_intersection(vin_a, vin_b, vds, beta_n, beta_p):\n",
    "    ids_n1, ids_p1 = current(vin_a, vds, beta_n, beta_p)\n",
    "    ids_n2, ids_p2 = current(vin_b, vds, beta_n, beta_p)\n",
    "    \n",
    "    for i in range(len(ids_n)):\n",
    "        ids_n[i] = min(ids_n1[i], ids_n2[i])\n",
    "        ids_p[i] = ids_p1[i] + ids_p2[i]\n",
    "    \n",
    "    idiff = ids_n - ids_p\n",
    "    vv = 0\n",
    "    idd = 0\n",
    "    for i in range(1, len(ids_p) - 1):\n",
    "        if idiff[i] * idiff[i + 1] <= 0:\n",
    "            vv = vds[i]\n",
    "            idd = ids_n[i]\n",
    "#             print(vv,idd)\n",
    "            break\n",
    "    return vv, idd, ids_n, ids_p"
   ]
  },
  {
   "cell_type": "code",
   "execution_count": 558,
   "metadata": {},
   "outputs": [],
   "source": [
    "vin_a = np.linspace(0,5,100)\n",
    "vin_b = 5\n",
    "v_out = np.zeros(100)\n",
    "i_out = np.zeros(100)\n",
    "for i in range(len(vin_a)):\n",
    "        vv, idd, ids_n, ids_p = finding_intersection(vin_a[i], vin_b, vd, beta_n, beta_p)\n",
    "        v_out[i] = vv\n",
    "        i_out[i] = idd"
   ]
  },
  {
   "cell_type": "code",
   "execution_count": 559,
   "metadata": {},
   "outputs": [],
   "source": [
    "def drawing_plot(input_a, input_b):\n",
    "    \n",
    "    # VTC\n",
    "    for i in range(len(vin_a)):\n",
    "        vv, idd, ids_n, ids_p = finding_intersection(vin_a[i], input_b, vd, beta_n, beta_p)\n",
    "        v_out[i] = vv\n",
    "        i_out[i] = idd\n",
    "    fig=plt.figure(figsize=(9, 6), dpi= 80)\n",
    "    plt.subplot(222)\n",
    "    plt.axis([0, 5, 0, 5])\n",
    "    plt.title('Transfer characteristics')\n",
    "    plt.plot(vin_a,v_out)\n",
    "    plt.xlabel('Voltage at A (V)')\n",
    "    plt.ylabel('Output Voltage (V)')\n",
    "    vv, idd, ids_n, ids_p = finding_intersection(input_a, input_b, vd, beta_n, beta_p)\n",
    "    plt.plot(input_a,vv,'ro')\n",
    "    \n",
    "    # IVC\n",
    "    vv, idd, ids_n, ids_p = finding_intersection(input_a, input_b, vd, beta_n, beta_p)\n",
    "    plt.subplot(221)\n",
    "    plt.title('I-V characteristics')\n",
    "    plt.plot(vd,ids_n*1000)\n",
    "    plt.xlabel('Drain Voltage (V)')\n",
    "    plt.ylabel('Drain Current (mA)')\n",
    "    plt.plot(vd,ids_p*1000)\n",
    "    plt.legend(['NMOS', 'PMOS'])\n",
    "    plt.plot(vv,idd*1000,'ro')\n",
    "    plt.axis([0,5,0,0.2])\n",
    "    \n",
    "    #\n",
    "    plt.subplot(223)\n",
    "    plt.title('Current')\n",
    "    plt.plot(vin_a,i_out*1000)\n",
    "    plt.xlabel('Voltage at A (V)')\n",
    "    plt.ylabel('Drain Current (mA)')\n",
    "    plt.plot(input_a,idd*1000,'ro')\n",
    "    \n",
    "    plt.subplot(224)\n",
    "    plt.title('Power consumption')\n",
    "    plt.plot(vin_a,5*i_out*1000)\n",
    "    plt.xlabel('Voltage at A (V)')\n",
    "    plt.ylabel('Power (mW)')\n",
    "    plt.plot(input_a,5*idd*1000,'ro')\n",
    "    plt.tight_layout()\n",
    "    plt.show()\n",
    "#     plt.plot(vgs,vv,'ro')"
   ]
  },
  {
   "cell_type": "code",
   "execution_count": 560,
   "metadata": {},
   "outputs": [
    {
     "data": {
      "application/vnd.jupyter.widget-view+json": {
       "model_id": "c222d7e6a70646ecb4a807e8600935cf",
       "version_major": 2,
       "version_minor": 0
      },
      "text/plain": [
       "interactive(children=(FloatSlider(value=2.0, description='input_a', max=5.0), FloatSlider(value=2.0, descripti…"
      ]
     },
     "metadata": {},
     "output_type": "display_data"
    },
    {
     "data": {
      "text/plain": [
       "<function __main__.drawing_plot(input_a, input_b)>"
      ]
     },
     "execution_count": 560,
     "metadata": {},
     "output_type": "execute_result"
    }
   ],
   "source": [
    "interact(drawing_plot, input_a =(0,5,0.1), input_b =(0,5,0.1))"
   ]
  },
  {
   "cell_type": "code",
   "execution_count": null,
   "metadata": {},
   "outputs": [],
   "source": []
  }
 ],
 "metadata": {
  "kernelspec": {
   "display_name": "Python 3",
   "language": "python",
   "name": "python3"
  },
  "language_info": {
   "codemirror_mode": {
    "name": "ipython",
    "version": 3
   },
   "file_extension": ".py",
   "mimetype": "text/x-python",
   "name": "python",
   "nbconvert_exporter": "python",
   "pygments_lexer": "ipython3",
   "version": "3.7.4"
  }
 },
 "nbformat": 4,
 "nbformat_minor": 2
}
